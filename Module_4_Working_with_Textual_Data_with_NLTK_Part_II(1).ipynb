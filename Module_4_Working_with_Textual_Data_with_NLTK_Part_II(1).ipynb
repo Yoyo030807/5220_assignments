{
  "cells": [
    {
      "cell_type": "markdown",
      "metadata": {
        "id": "view-in-github",
        "colab_type": "text"
      },
      "source": [
        "<a href=\"https://colab.research.google.com/github/Yoyo030807/5220_assignments/blob/main/Module_4_Working_with_Textual_Data_with_NLTK_Part_II(1).ipynb\" target=\"_parent\"><img src=\"https://colab.research.google.com/assets/colab-badge.svg\" alt=\"Open In Colab\"/></a>"
      ]
    },
    {
      "cell_type": "markdown",
      "id": "4b38feb7",
      "metadata": {
        "id": "4b38feb7"
      },
      "source": [
        "## Module 4: Working with Textual Data with NLTK Part II (10 Points).\n",
        "\n",
        "\n",
        "In this tutorial, we will:\n",
        "1. Explore the development of word2vec embedding of word tokens.\n",
        "2. A shallow taste of the PyTorch framework for deep learning.\n",
        "\n",
        "\n",
        "**Note: There is an associated submission for this exercise.**"
      ]
    },
    {
      "cell_type": "markdown",
      "id": "735b85e1",
      "metadata": {
        "id": "735b85e1"
      },
      "source": [
        "Let's still start with the `examp_doc` we have used in last tutorial. Alternatively, you can replace it with other paragraphs."
      ]
    },
    {
      "cell_type": "code",
      "execution_count": 1,
      "id": "a6c84425",
      "metadata": {
        "id": "a6c84425"
      },
      "outputs": [],
      "source": [
        "import nltk"
      ]
    },
    {
      "cell_type": "code",
      "execution_count": 2,
      "id": "b3517845",
      "metadata": {
        "colab": {
          "base_uri": "https://localhost:8080/",
          "height": 0
        },
        "id": "b3517845",
        "outputId": "66cfc4c4-ef1c-4230-c61b-473ebf220d96"
      },
      "outputs": [
        {
          "output_type": "stream",
          "name": "stdout",
          "text": [
            "Growing use of the Internet and social media in the past decade has led to an explosion in the amount of \n",
            "social and behavioral data available to researchers. This in turn has created huge opportunities for social scientists to \n",
            "study human behavior and social interaction in unprecedented detail. Leveraging these opportunities requires collaborative, \n",
            "interdisciplinary efforts involving computer and information scientists, physicists, and mathematicians who know how to \n",
            "build the telescope and economists, political scientists, and sociologists who know where to aim it. Computational social \n",
            "science exists at the intersection of these varied disciplines.\n"
          ]
        }
      ],
      "source": [
        "# Trick: use triple quotes (\"\"\" ...... \"\"\") to define multi-line texts in Python.\n",
        "\n",
        "examp_doc = \"\"\"Growing use of the Internet and social media in the past decade has led to an explosion in the amount of\n",
        "social and behavioral data available to researchers. This in turn has created huge opportunities for social scientists to\n",
        "study human behavior and social interaction in unprecedented detail. Leveraging these opportunities requires collaborative,\n",
        "interdisciplinary efforts involving computer and information scientists, physicists, and mathematicians who know how to\n",
        "build the telescope and economists, political scientists, and sociologists who know where to aim it. Computational social\n",
        "science exists at the intersection of these varied disciplines.\"\"\"\n",
        "\n",
        "\n",
        "print(examp_doc)"
      ]
    },
    {
      "cell_type": "markdown",
      "id": "452a0361",
      "metadata": {
        "id": "452a0361"
      },
      "source": [
        "#### Tokenize the document.\n",
        "\n",
        "**Exercise 1** Use below code cell to convert the document into a list of tokens. Each token should:\n",
        "- split the paragraph into sentences\n",
        "- for each sentence, further split them into individual words.\n",
        "- turn all words into lower cases (i.e., \"a\" insteand of \"A\")\n",
        "- remove stop words.\n",
        "- remove punctuations.\n",
        "- stem to the root.\n",
        "\n",
        "You can add a cell box below and test the code line by line before writing the function."
      ]
    },
    {
      "cell_type": "code",
      "execution_count": 4,
      "id": "f7d8ecb7",
      "metadata": {
        "colab": {
          "base_uri": "https://localhost:8080/",
          "height": 0
        },
        "id": "f7d8ecb7",
        "outputId": "d76c259e-b00b-42bf-8aa8-53381363cf0c"
      },
      "outputs": [
        {
          "output_type": "stream",
          "name": "stderr",
          "text": [
            "[nltk_data] Downloading package punkt to /root/nltk_data...\n",
            "[nltk_data]   Package punkt is already up-to-date!\n",
            "[nltk_data] Downloading package stopwords to /root/nltk_data...\n",
            "[nltk_data]   Package stopwords is already up-to-date!\n",
            "[nltk_data] Downloading package punkt_tab to /root/nltk_data...\n",
            "[nltk_data]   Unzipping tokenizers/punkt_tab.zip.\n"
          ]
        },
        {
          "output_type": "stream",
          "name": "stdout",
          "text": [
            "[['grow', 'use', 'internet', 'social', 'media', 'past', 'decad', 'led', 'explos', 'amount', 'social', 'behavior', 'data', 'avail', 'research'], ['turn', 'creat', 'huge', 'opportun', 'social', 'scientist', 'studi', 'human', 'behavior', 'social', 'interact', 'unpreced', 'detail'], ['leverag', 'opportun', 'requir', 'collabor', 'interdisciplinari', 'effort', 'involv', 'comput', 'inform', 'scientist', 'physicist', 'mathematician', 'know', 'build', 'telescop', 'economist', 'polit', 'scientist', 'sociologist', 'know', 'aim'], ['comput', 'social', 'scienc', 'exist', 'intersect', 'vari', 'disciplin']]\n"
          ]
        }
      ],
      "source": [
        "import string\n",
        "\n",
        "nltk.download('punkt')\n",
        "nltk.download('stopwords')\n",
        "nltk.download('punkt_tab') # Added to download the missing resource\n",
        "stemmer = nltk.stem.PorterStemmer()\n",
        "stopword_lst = nltk.corpus.stopwords.words('english')\n",
        "punct_lst = '''!()-[]{};:\\'\"\\\\,<>./?@#$%^&*_~''' # Escaped the backslash\n",
        "\n",
        "def clean_and_tokenize(examp_doc):\n",
        "    # write down the corresponding procedures.\n",
        "    # the six lines correspond to six steps.\n",
        "\n",
        "    out = nltk.sent_tokenize(examp_doc)\n",
        "    out = [nltk.word_tokenize(sent) for sent in out]\n",
        "    out = [[word.lower() for word in sent] for sent in out]\n",
        "    out = [[word for word in sent if word not in stopword_lst] for sent in out]\n",
        "    out = [[word for word in sent if word not in punct_lst] for sent in out]\n",
        "    out = [[stemmer.stem(word) for word in sent] for sent in out]\n",
        "\n",
        "    return out\n",
        "\n",
        "\n",
        "token_lsts = clean_and_tokenize(examp_doc)\n",
        "print(token_lsts)"
      ]
    },
    {
      "cell_type": "markdown",
      "id": "31d1d835",
      "metadata": {
        "id": "31d1d835"
      },
      "source": [
        "### 1. Bag-of-Word (BoW) Encoding\n",
        "\n",
        "This section will experiment the creation of BoW with the provided \"examp_doc\".\n",
        "\n",
        "   1. The *first* step is to clean and prepare the data, which we have already done with the function `clean_and_tokenize()`, and the output is `token_lsts`.\n",
        "\n",
        "   2. Then the *second* step is to create a vocabulary, consisting all unique words in the document. Please check and run the below code to achieve this step."
      ]
    },
    {
      "cell_type": "code",
      "execution_count": 5,
      "id": "9e209e4b",
      "metadata": {
        "colab": {
          "base_uri": "https://localhost:8080/",
          "height": 0
        },
        "id": "9e209e4b",
        "outputId": "7b8e8b8a-ff8b-4845-c02e-148ed79ef3bb"
      },
      "outputs": [
        {
          "output_type": "stream",
          "name": "stdout",
          "text": [
            "['aim', 'amount', 'avail', 'behavior', 'build', 'collabor', 'comput', 'creat', 'data', 'decad', 'detail', 'disciplin', 'economist', 'effort', 'exist', 'explos', 'grow', 'huge', 'human', 'inform', 'interact', 'interdisciplinari', 'internet', 'intersect', 'involv', 'know', 'led', 'leverag', 'mathematician', 'media', 'opportun', 'past', 'physicist', 'polit', 'requir', 'research', 'scienc', 'scientist', 'social', 'sociologist', 'studi', 'telescop', 'turn', 'unpreced', 'use', 'vari']\n"
          ]
        }
      ],
      "source": [
        "vocab_lst = sorted(list(set([token for token_lst in token_lsts for token in token_lst])))\n",
        "print(vocab_lst)"
      ]
    },
    {
      "cell_type": "code",
      "execution_count": 6,
      "id": "1350bc32",
      "metadata": {
        "colab": {
          "base_uri": "https://localhost:8080/",
          "height": 0
        },
        "id": "1350bc32",
        "outputId": "543e39e5-e082-4adf-99d9-25ce0d2fc141"
      },
      "outputs": [
        {
          "output_type": "execute_result",
          "data": {
            "text/plain": [
              "['grow',\n",
              " 'use',\n",
              " 'internet',\n",
              " 'social',\n",
              " 'media',\n",
              " 'past',\n",
              " 'decad',\n",
              " 'led',\n",
              " 'explos',\n",
              " 'amount',\n",
              " 'social',\n",
              " 'behavior',\n",
              " 'data',\n",
              " 'avail',\n",
              " 'research']"
            ]
          },
          "metadata": {},
          "execution_count": 6
        }
      ],
      "source": [
        "token_lsts[0]"
      ]
    },
    {
      "cell_type": "markdown",
      "id": "c9c4ed09",
      "metadata": {
        "id": "c9c4ed09"
      },
      "source": [
        "<span style='background-color: #FFFF00;'> **Question:** what is the dimension for the one-hot word encoding derived from this vocabulary? (**1 Point**) </span>\n",
        "\n",
        "\n",
        "**Answer:** The dimension for the one-hot word encoding derived from this vocabulary is 46."
      ]
    },
    {
      "cell_type": "markdown",
      "id": "7d505b64",
      "metadata": {
        "id": "7d505b64"
      },
      "source": [
        "3. The *third* step is to convert each documents (i.e., each sentence in `exemp_doc` or each list in `token_lsts`) into the BoW encoding. Write the function in the below code cell to achieve this."
      ]
    },
    {
      "cell_type": "code",
      "execution_count": 7,
      "id": "0d47f49a",
      "metadata": {
        "colab": {
          "base_uri": "https://localhost:8080/",
          "height": 0
        },
        "id": "0d47f49a",
        "outputId": "d7f9cc43-6d8f-4f41-c940-c69ed4252ec7"
      },
      "outputs": [
        {
          "output_type": "stream",
          "name": "stdout",
          "text": [
            "[0, 1, 1, 1, 0, 0, 0, 0, 1, 1, 0, 0, 0, 0, 0, 1, 1, 0, 0, 0, 0, 0, 1, 0, 0, 0, 1, 0, 0, 1, 0, 1, 0, 0, 0, 1, 0, 0, 2, 0, 0, 0, 0, 0, 1, 0]\n",
            "[0, 0, 0, 1, 0, 0, 0, 1, 0, 0, 1, 0, 0, 0, 0, 0, 0, 1, 1, 0, 1, 0, 0, 0, 0, 0, 0, 0, 0, 0, 1, 0, 0, 0, 0, 0, 0, 1, 2, 0, 1, 0, 1, 1, 0, 0]\n",
            "[1, 0, 0, 0, 1, 1, 1, 0, 0, 0, 0, 0, 1, 1, 0, 0, 0, 0, 0, 1, 0, 1, 0, 0, 1, 2, 0, 1, 1, 0, 1, 0, 1, 1, 1, 0, 0, 2, 0, 1, 0, 1, 0, 0, 0, 0]\n",
            "[0, 0, 0, 0, 0, 0, 1, 0, 0, 0, 0, 1, 0, 0, 1, 0, 0, 0, 0, 0, 0, 0, 0, 1, 0, 0, 0, 0, 0, 0, 0, 0, 0, 0, 0, 0, 1, 0, 1, 0, 0, 0, 0, 0, 0, 1]\n"
          ]
        },
        {
          "output_type": "execute_result",
          "data": {
            "text/plain": [
              "[None, None, None, None]"
            ]
          },
          "metadata": {},
          "execution_count": 7
        }
      ],
      "source": [
        "## finish the code in this step.\n",
        "import numpy as np\n",
        "\n",
        "def tokenLst_to_BOW(token_lsts, vocabList):\n",
        "    # for each token in vocabList, count its frequency in the token list representing the original sentnece.\n",
        "    out = []\n",
        "\n",
        "    for tokenLst in token_lsts:\n",
        "        bow_embedding = []\n",
        "        for word in vocabList:\n",
        "            bow_embedding.append(tokenLst.count(word))\n",
        "        out.append(bow_embedding)\n",
        "\n",
        "    return out\n",
        "\n",
        "bow_encoding = tokenLst_to_BOW(token_lsts, vocab_lst)\n",
        "\n",
        "[print(bow_encoding[i]) for i in range(4)]"
      ]
    },
    {
      "cell_type": "markdown",
      "id": "3360e6ef",
      "metadata": {
        "id": "3360e6ef"
      },
      "source": [
        "Bag of Words (BOW) encoding can be utilized to analyze the similarity among texts by comparing the frequency distribution of various words. Therefore, BOW encoding can serve as input for NLP tasks that inherently rely on similarity scores, such as document classification (e.g., determining the category of news articles), topic modeling, and latent semantic analysis.\n",
        "\n",
        "Below just showed a simple example for comparing similarity of the four sentences in the `exemp_doc` with the [`cosine_similarity`](https://scikit-learn.org/stable/modules/generated/sklearn.metrics.pairwise.cosine_similarity.html) function in sklearn. Based on the results, it can be inferred that the first and second sentences are the most alike, with a cosine similarity score of 0.31."
      ]
    },
    {
      "cell_type": "code",
      "execution_count": 8,
      "id": "d4cd8de1",
      "metadata": {
        "colab": {
          "base_uri": "https://localhost:8080/",
          "height": 0
        },
        "id": "d4cd8de1",
        "outputId": "472612ad-e0af-46d4-ab11-275d5eba25b9"
      },
      "outputs": [
        {
          "output_type": "stream",
          "name": "stdout",
          "text": [
            "[[1.         0.31311215 0.         0.1833397 ]\n",
            " [0.31311215 1.         0.15491933 0.19518001]\n",
            " [0.         0.15491933 1.         0.07559289]\n",
            " [0.1833397  0.19518001 0.07559289 1.        ]]\n"
          ]
        }
      ],
      "source": [
        "from sklearn.metrics.pairwise import cosine_similarity\n",
        "\n",
        "print(cosine_similarity((bow_encoding)))"
      ]
    },
    {
      "cell_type": "markdown",
      "id": "c1471255",
      "metadata": {
        "id": "c1471255"
      },
      "source": [
        "<span style='background-color: #FFFF00;'> **Exercise:** In below code cell, write the function to convert BoW encoding (a list of lists) into TF-IDF encoding. (**3 Points**) </span>\n",
        "- The input is BOW encoding.\n",
        "- The output is tf-idf encoding.\n",
        "\n",
        "<div>\n",
        "<img src=\"attachment:image-2.png\" align=\"center\" width=\"400\">\n",
        "<img src=\"attachment:image-3.png\" align=\"center\" width=\"300\">\n",
        "<img src=\"attachment:image.png\" align=\"center\" width=\"300\">\n",
        "</div>"
      ]
    },
    {
      "cell_type": "code",
      "execution_count": 12,
      "id": "91a84004",
      "metadata": {
        "colab": {
          "base_uri": "https://localhost:8080/",
          "height": 0
        },
        "id": "91a84004",
        "outputId": "4ecb4487-96a1-46b2-ceb2-e57ed4de916d"
      },
      "outputs": [
        {
          "output_type": "execute_result",
          "data": {
            "text/plain": [
              "[[0.0,\n",
              "  0.12775271545827702,\n",
              "  0.12775271545827702,\n",
              "  0.10072170825106605,\n",
              "  0.0,\n",
              "  0.0,\n",
              "  0.0,\n",
              "  0.0,\n",
              "  0.12775271545827702,\n",
              "  0.12775271545827702,\n",
              "  0.0,\n",
              "  0.0,\n",
              "  0.0,\n",
              "  0.0,\n",
              "  0.0,\n",
              "  0.12775271545827702,\n",
              "  0.12775271545827702,\n",
              "  0.0,\n",
              "  0.0,\n",
              "  0.0,\n",
              "  0.0,\n",
              "  0.0,\n",
              "  0.12775271545827702,\n",
              "  0.0,\n",
              "  0.0,\n",
              "  0.0,\n",
              "  0.12775271545827702,\n",
              "  0.0,\n",
              "  0.0,\n",
              "  0.12775271545827702,\n",
              "  0.0,\n",
              "  0.12775271545827702,\n",
              "  0.0,\n",
              "  0.0,\n",
              "  0.0,\n",
              "  0.12775271545827702,\n",
              "  0.0,\n",
              "  0.0,\n",
              "  0.16308580684189464,\n",
              "  0.0,\n",
              "  0.0,\n",
              "  0.0,\n",
              "  0.0,\n",
              "  0.0,\n",
              "  0.12775271545827702,\n",
              "  0.0],\n",
              " [0.0,\n",
              "  0.0,\n",
              "  0.0,\n",
              "  0.11621735567430698,\n",
              "  0.0,\n",
              "  0.0,\n",
              "  0.0,\n",
              "  0.14740697937493502,\n",
              "  0.0,\n",
              "  0.0,\n",
              "  0.14740697937493502,\n",
              "  0.0,\n",
              "  0.0,\n",
              "  0.0,\n",
              "  0.0,\n",
              "  0.0,\n",
              "  0.0,\n",
              "  0.14740697937493502,\n",
              "  0.14740697937493502,\n",
              "  0.0,\n",
              "  0.14740697937493502,\n",
              "  0.0,\n",
              "  0.0,\n",
              "  0.0,\n",
              "  0.0,\n",
              "  0.0,\n",
              "  0.0,\n",
              "  0.0,\n",
              "  0.0,\n",
              "  0.0,\n",
              "  0.11621735567430698,\n",
              "  0.0,\n",
              "  0.0,\n",
              "  0.0,\n",
              "  0.0,\n",
              "  0.0,\n",
              "  0.0,\n",
              "  0.11621735567430698,\n",
              "  0.18817593097141688,\n",
              "  0.0,\n",
              "  0.14740697937493502,\n",
              "  0.0,\n",
              "  0.14740697937493502,\n",
              "  0.14740697937493502,\n",
              "  0.0,\n",
              "  0.0],\n",
              " [0.091251939613055,\n",
              "  0.0,\n",
              "  0.0,\n",
              "  0.0,\n",
              "  0.091251939613055,\n",
              "  0.091251939613055,\n",
              "  0.07194407732219003,\n",
              "  0.0,\n",
              "  0.0,\n",
              "  0.0,\n",
              "  0.0,\n",
              "  0.0,\n",
              "  0.091251939613055,\n",
              "  0.091251939613055,\n",
              "  0.0,\n",
              "  0.0,\n",
              "  0.0,\n",
              "  0.0,\n",
              "  0.0,\n",
              "  0.091251939613055,\n",
              "  0.0,\n",
              "  0.091251939613055,\n",
              "  0.0,\n",
              "  0.0,\n",
              "  0.091251939613055,\n",
              "  0.18250387922611,\n",
              "  0.0,\n",
              "  0.091251939613055,\n",
              "  0.091251939613055,\n",
              "  0.0,\n",
              "  0.07194407732219003,\n",
              "  0.0,\n",
              "  0.091251939613055,\n",
              "  0.091251939613055,\n",
              "  0.091251939613055,\n",
              "  0.0,\n",
              "  0.0,\n",
              "  0.14388815464438007,\n",
              "  0.0,\n",
              "  0.091251939613055,\n",
              "  0.0,\n",
              "  0.091251939613055,\n",
              "  0.0,\n",
              "  0.0,\n",
              "  0.0,\n",
              "  0.0],\n",
              " [0.0,\n",
              "  0.0,\n",
              "  0.0,\n",
              "  0.0,\n",
              "  0.0,\n",
              "  0.0,\n",
              "  0.2158322319665701,\n",
              "  0.0,\n",
              "  0.0,\n",
              "  0.0,\n",
              "  0.0,\n",
              "  0.273755818839165,\n",
              "  0.0,\n",
              "  0.0,\n",
              "  0.273755818839165,\n",
              "  0.0,\n",
              "  0.0,\n",
              "  0.0,\n",
              "  0.0,\n",
              "  0.0,\n",
              "  0.0,\n",
              "  0.0,\n",
              "  0.0,\n",
              "  0.273755818839165,\n",
              "  0.0,\n",
              "  0.0,\n",
              "  0.0,\n",
              "  0.0,\n",
              "  0.0,\n",
              "  0.0,\n",
              "  0.0,\n",
              "  0.0,\n",
              "  0.0,\n",
              "  0.0,\n",
              "  0.0,\n",
              "  0.0,\n",
              "  0.273755818839165,\n",
              "  0.0,\n",
              "  0.1747347930448871,\n",
              "  0.0,\n",
              "  0.0,\n",
              "  0.0,\n",
              "  0.0,\n",
              "  0.0,\n",
              "  0.0,\n",
              "  0.273755818839165]]"
            ]
          },
          "metadata": {},
          "execution_count": 12
        }
      ],
      "source": [
        "import math\n",
        "\n",
        "def bow_to_tfidf(bow_encoding):\n",
        "    # write your code below\n",
        "\n",
        "    # Step 0: Handle edge cases and get dimensions\n",
        "    if not bow_encoding:\n",
        "        return []\n",
        "\n",
        "    num_documents = len(bow_encoding)\n",
        "    # Assume all docs have the same vocab size from the BoW matrix\n",
        "    num_terms = len(bow_encoding[0]) if num_documents > 0 else 0\n",
        "\n",
        "    if num_terms == 0:\n",
        "        # Return a list of empty lists for each document\n",
        "        return [[] for _ in range(num_documents)]\n",
        "\n",
        "    # Step 1: Calculate TF (Term Frequency)\n",
        "    # TF(t, d) = (Number of times term t appears in document d) / (Total number of terms in document d)\n",
        "\n",
        "    tf_matrix = []\n",
        "    for doc_counts in bow_encoding:\n",
        "        total_words_in_doc = sum(doc_counts)\n",
        "\n",
        "        if total_words_in_doc == 0:\n",
        "            # Avoid division by zero if the document is empty\n",
        "            tf_doc = [0.0] * num_terms\n",
        "        else:\n",
        "            # Calculate TF for each term in the document\n",
        "            tf_doc = [count / total_words_in_doc for count in doc_counts]\n",
        "\n",
        "        tf_matrix.append(tf_doc)\n",
        "\n",
        "    # Step 2: Calculate IDF (Inverse Document Frequency)\n",
        "    # First, we need the Document Frequency (df) for each term\n",
        "    # df(t) = number of documents that contain term t\n",
        "\n",
        "    df = [0] * num_terms\n",
        "    for doc_counts in bow_encoding:\n",
        "        for t_index in range(num_terms):\n",
        "            # If term t has a count > 0, it's in this document\n",
        "            if doc_counts[t_index] > 0:\n",
        "                df[t_index] += 1\n",
        "\n",
        "    # Now, calculate the IDF score for each term using the common formula\n",
        "    # IDF(t) = log((1 + N) / (1 + df(t))) + 1\n",
        "    # N = num_documents\n",
        "    # We add 1 (smoothing) to avoid division by zero and match common library standards\n",
        "\n",
        "    idf_vector = []\n",
        "    for t_index in range(num_terms):\n",
        "        numerator = 1 + num_documents\n",
        "        denominator = 1 + df[t_index]\n",
        "        idf_score = math.log(numerator / denominator) + 1\n",
        "        idf_vector.append(idf_score)\n",
        "\n",
        "    # Step 3: Calculate TF-IDF\n",
        "    # TF-IDF(t, d) = TF(t, d) * IDF(t)\n",
        "\n",
        "    tfidf_encoding = []\n",
        "    for d_index in range(num_documents):\n",
        "        tfidf_doc = []\n",
        "        for t_index in range(num_terms):\n",
        "            # Multiply the TF score by the IDF score for each term\n",
        "            score = tf_matrix[d_index][t_index] * idf_vector[t_index]\n",
        "            tfidf_doc.append(score)\n",
        "        tfidf_encoding.append(tfidf_doc)\n",
        "\n",
        "    return tfidf_encoding\n",
        "\n",
        "bow_to_tfidf(bow_encoding)"
      ]
    },
    {
      "cell_type": "markdown",
      "id": "f5c72d6b",
      "metadata": {
        "id": "f5c72d6b"
      },
      "source": [
        "### 2. Word2Vec Embedding.\n",
        "\n",
        "[`PyTorch`](https://pytorch.org/), developed by Facebook's Artificial Intelligence Research group (FAIR), is a powerful library for building deep learning networks. It provides implementations of many commonly-used network layers. The process of building a deep learning network is akin to building with blocks (搭积木). When building with blocks, you arrange each block to create an overall appealing structure. Similarly, when building a deep learning model, you arrange the different layers to optimize its efficiency.\n",
        "\n",
        "![image-3.png](attachment:image-3.png)\n",
        "\n",
        "We will use PyTorch to implement the Continuous Bag-of-Words (CBOW) model we have learnt in the lecture session. To start, we need to prepare the original file `exemp_doc` into bag-of-words. You can run the below code cell to prepare the data.\n",
        "\n",
        "Please also be noted that the CBOW embedding and BOW encoding (or one-hot encoding) are two different things."
      ]
    },
    {
      "cell_type": "code",
      "execution_count": 13,
      "id": "4339f82e",
      "metadata": {
        "colab": {
          "base_uri": "https://localhost:8080/",
          "height": 0
        },
        "id": "4339f82e",
        "outputId": "69ba4433-3cb6-4bdf-876e-f86fe4ba7965"
      },
      "outputs": [
        {
          "output_type": "stream",
          "name": "stdout",
          "text": [
            "(('grow', 'use', 'social', 'media'), 'internet')\n",
            "(('use', 'internet', 'media', 'past'), 'social')\n",
            "(('internet', 'social', 'past', 'decad'), 'media')\n",
            "(('social', 'media', 'decad', 'led'), 'past')\n",
            "(('media', 'past', 'led', 'explos'), 'decad')\n",
            "(('past', 'decad', 'explos', 'amount'), 'led')\n",
            "(('decad', 'led', 'amount', 'social'), 'explos')\n",
            "(('led', 'explos', 'social', 'behavior'), 'amount')\n",
            "(('explos', 'amount', 'behavior', 'data'), 'social')\n",
            "(('amount', 'social', 'data', 'avail'), 'behavior')\n",
            "(('social', 'behavior', 'avail', 'research'), 'data')\n",
            "(('turn', 'creat', 'opportun', 'social'), 'huge')\n",
            "(('creat', 'huge', 'social', 'scientist'), 'opportun')\n",
            "(('huge', 'opportun', 'scientist', 'studi'), 'social')\n",
            "(('opportun', 'social', 'studi', 'human'), 'scientist')\n",
            "(('social', 'scientist', 'human', 'behavior'), 'studi')\n",
            "(('scientist', 'studi', 'behavior', 'social'), 'human')\n",
            "(('studi', 'human', 'social', 'interact'), 'behavior')\n",
            "(('human', 'behavior', 'interact', 'unpreced'), 'social')\n",
            "(('behavior', 'social', 'unpreced', 'detail'), 'interact')\n",
            "(('leverag', 'opportun', 'collabor', 'interdisciplinari'), 'requir')\n",
            "(('opportun', 'requir', 'interdisciplinari', 'effort'), 'collabor')\n",
            "(('requir', 'collabor', 'effort', 'involv'), 'interdisciplinari')\n",
            "(('collabor', 'interdisciplinari', 'involv', 'comput'), 'effort')\n",
            "(('interdisciplinari', 'effort', 'comput', 'inform'), 'involv')\n",
            "(('effort', 'involv', 'inform', 'scientist'), 'comput')\n",
            "(('involv', 'comput', 'scientist', 'physicist'), 'inform')\n",
            "(('comput', 'inform', 'physicist', 'mathematician'), 'scientist')\n",
            "(('inform', 'scientist', 'mathematician', 'know'), 'physicist')\n",
            "(('scientist', 'physicist', 'know', 'build'), 'mathematician')\n",
            "(('physicist', 'mathematician', 'build', 'telescop'), 'know')\n",
            "(('mathematician', 'know', 'telescop', 'economist'), 'build')\n",
            "(('know', 'build', 'economist', 'polit'), 'telescop')\n",
            "(('build', 'telescop', 'polit', 'scientist'), 'economist')\n",
            "(('telescop', 'economist', 'scientist', 'sociologist'), 'polit')\n",
            "(('economist', 'polit', 'sociologist', 'know'), 'scientist')\n",
            "(('polit', 'scientist', 'know', 'aim'), 'sociologist')\n",
            "(('comput', 'social', 'exist', 'intersect'), 'scienc')\n",
            "(('social', 'scienc', 'intersect', 'vari'), 'exist')\n",
            "(('scienc', 'exist', 'vari', 'disciplin'), 'intersect')\n",
            "40\n"
          ]
        }
      ],
      "source": [
        "context_size = 2\n",
        "\n",
        "data = []\n",
        "\n",
        "for sent in token_lsts:\n",
        "    for i in range(context_size, len(sent)-2):\n",
        "        context = (sent[i-2], sent[i-1], sent[i+1], sent[i+2])\n",
        "        target = sent[i]\n",
        "        data.append((context, target))\n",
        "\n",
        "\n",
        "[print(data[i]) for i in range(len(data))]\n",
        "print(len(data))"
      ]
    },
    {
      "cell_type": "markdown",
      "id": "5a8e146a",
      "metadata": {
        "id": "5a8e146a"
      },
      "source": [
        "CBOW predicts the word with its contextual words. For example, predicting \"*internet*\" based on the list of words: [\"*grow*\", \"*use*\", \"*social*\", \"*media*\"].\n",
        "\n",
        "\n",
        "**A shallow taste of deep learning**\n",
        "\n",
        "In our lecture session, we have explained the principle of Word2Vec embeddings. Below code cell presents a simple deep learning model, written with PyTorch, for Continuous Bag-of-Words (CBOW). The corresponding network structure is also provided in Figure 1.\n",
        "\n",
        "\n",
        "<div>\n",
        "<img src=\"attachment:image-2.png\" align=\"center\" width=\"700\">\n",
        "</div>\n",
        "\n",
        "**Figure 1**. The network structure of CBOW.\n",
        "\n",
        "Some online documents in PyTorch you may find helpful:\n",
        "- [`nn.Embedding`](https://pytorch.org/docs/stable/generated/torch.nn.Embedding.html)\n",
        "- [`nn.Linear`](https://pytorch.org/docs/stable/generated/torch.nn.Linear.html)\n",
        "- [`F.log_softmax`](https://pytorch.org/docs/stable/generated/torch.nn.functional.log_softmax.html)"
      ]
    },
    {
      "cell_type": "code",
      "execution_count": 14,
      "id": "e209f833",
      "metadata": {
        "id": "e209f833"
      },
      "outputs": [],
      "source": [
        "import torch\n",
        "import torch.nn as nn\n",
        "import torch.optim as optim\n",
        "import torch.nn.functional as F   # load necessary packages & functions from PyTorch\n",
        "\n",
        "\n",
        "class CBOW(nn.Module): # define the class \"CBOW\", which is a child class derived from the parent class: \"nn.Module\"\n",
        "\n",
        "    def __init__(self, vocab_size, embedding_dim=5, hidd_dim = 16, context_size = 2):\n",
        "        super(CBOW, self).__init__() # the \"CBOW\" class inherits all properties and methods from its parent class.\n",
        "\n",
        "        # initialize the embedding layer.\n",
        "        self.embeddings = nn.Embedding(vocab_size, embedding_dim)\n",
        "\n",
        "        # Define the first fully connected layer (linear transformation) which takes the concatenated embeddings as input\n",
        "        self.linear1 = nn.Linear(context_size * embedding_dim, hidd_dim)\n",
        "\n",
        "        # Define the second fully connected layer which outputs scores for each word in the vocabulary\n",
        "        self.linear2 = nn.Linear(hidd_dim, vocab_size)\n",
        "\n",
        "    def forward(self, inputs): # Define the forward pass of the network\n",
        "        embeds = self.embeddings(inputs) # Get the embeddings for the input words\n",
        "\n",
        "        # Flatten the embeddings (from context_size x embedding_dim to a single vector)\n",
        "        out = embeds.view((1, -1))\n",
        "\n",
        "        # Pass the flattened embeddings through the first linear layer\n",
        "        out = self.linear1(out)\n",
        "\n",
        "        # Pass the output of the first linear layer through the second linear layer\n",
        "        out = self.linear2(out)\n",
        "\n",
        "        # Apply log softmax to get log probabilities for each word in the vocabulary\n",
        "        log_probs = F.log_softmax(out, dim=1)\n",
        "\n",
        "        return(log_probs) # Return the log probabilities"
      ]
    },
    {
      "cell_type": "markdown",
      "id": "f8ae7eb4",
      "metadata": {
        "id": "f8ae7eb4"
      },
      "source": [
        "<span style='background-color: #FFFF00;'> Please carefully review Figure 1 and the 13-line PyTorch code. Analyze the code and answer the following questions (**4 Points**).</span>\n",
        "\n",
        "---\n",
        "**Q1:** which line of the code correspond to the \"Embedding Layer\" on the figure, and what is the dimension of inputs and outputs for that layer?\n",
        "\n",
        "**A1:** **Line**: self.embeddings = nn.Embedding(vocab_size, embedding_dim) (Line 8 in the __init__ method, where the layer is defined).\n",
        "\n",
        "**Input Dimension**: The input (inputs in the forward method) is a 1D tensor of word indices. Based on the context_size=2 parameter, its shape is (context_size,), which is (2,).\n",
        "\n",
        "**Output Dimension**: The output (embeds) is a 2D tensor of shape (context_size, embedding_dim), which is (2, 5).\n",
        "\n",
        "---\n",
        "\n",
        "**Q2:** which line of the code correspond to the \"1st Linear Layer\" on the figure, and what is the dimension of inputs and outputs for that layer?\n",
        "\n",
        "**A2:**\n",
        "**Line**: self.linear1 = nn.Linear(context_size * embedding_dim, hidd_dim) (Line 11).\n",
        "\n",
        "**Input Dimension**: The input features are context_size * embedding_dim = 2 * 5 = 10. (This corresponds to the flattened embeds.view(1, -1) tensor, which has a shape of (1, 10)).\n",
        "\n",
        "**Output Dimension**: The output features are hidd_dim = 16. (The layer outputs a tensor of shape (1, 16)).\n",
        "\n",
        "---\n",
        "\n",
        "**Q3:** which line of the code correspond to the \"2nd Linear Layer\" on the figure, and what is the dimension of inputs and outputs for that layer?\n",
        "\n",
        "**A3:**\n",
        "**Line**: self.linear2 = nn.Linear(hidd_dim, vocab_size) (Line 14).\n",
        "\n",
        "**Input Dimension**: The input features are hidd_dim = 16. (This corresponds to the output tensor from self.linear1, which has a shape of (1, 16)).\n",
        "\n",
        "**Output Dimension**: The output features are vocab_size. (The layer outputs a tensor of shape (1, vocab_size)).\n",
        "\n",
        "---\n",
        "**Q4:** what is the purpose of the softmax?\n",
        "\n",
        "**A4:** The purpose of the softmax function (or log_softmax as used in the code) is to convert the network's final raw output scores (also called \"logits\") into a probability distribution. It rescales the scores for every word in the vocabulary so that each score is between 0 and 1, and all scores sum up to 1. This allows the output to be interpreted as the probability of each word being the correct target word.\n",
        "\n",
        "---"
      ]
    },
    {
      "cell_type": "markdown",
      "id": "d89993d2",
      "metadata": {
        "id": "d89993d2"
      },
      "source": [
        "Run below code cell to train the model and check the loss curve."
      ]
    },
    {
      "cell_type": "code",
      "execution_count": 16,
      "id": "c29c5043",
      "metadata": {
        "colab": {
          "base_uri": "https://localhost:8080/",
          "height": 447
        },
        "id": "c29c5043",
        "outputId": "17ff5ae8-6476-42cb-f75f-119d1d467b7f"
      },
      "outputs": [
        {
          "output_type": "execute_result",
          "data": {
            "text/plain": [
              "[<matplotlib.lines.Line2D at 0x7aab976cbda0>]"
            ]
          },
          "metadata": {},
          "execution_count": 16
        },
        {
          "output_type": "display_data",
          "data": {
            "text/plain": [
              "<Figure size 640x480 with 1 Axes>"
            ],
            "image/png": "[encoded data removed]"
          },
          "metadata": {}
        }
      ],
      "source": [
        "import matplotlib.pyplot as plt\n",
        "import torch\n",
        "import torch.nn as nn\n",
        "import torch.optim as optim\n",
        "import torch.nn.functional as F   # load necessary packages & functions from PyTorch\n",
        "\n",
        "\n",
        "class CBOW(nn.Module): # define the class \"CBOW\", which is a child class derived from the parent class: \"nn.Module\"\n",
        "\n",
        "    def __init__(self, vocab_size, embedding_dim=5, hidd_dim = 16, context_size = 2):\n",
        "        super(CBOW, self).__init__() # the \"CBOW\" class inherits all properties and methods from its parent class.\n",
        "\n",
        "        # initialize the embedding layer.\n",
        "        self.embeddings = nn.Embedding(vocab_size, embedding_dim)\n",
        "\n",
        "        # Define the first fully connected layer (linear transformation) which takes the concatenated embeddings as input\n",
        "        self.linear1 = nn.Linear(context_size * embedding_dim, hidd_dim)\n",
        "\n",
        "        # Define the second fully connected layer which outputs scores for each word in the vocabulary\n",
        "        self.linear2 = nn.Linear(hidd_dim, vocab_size)\n",
        "\n",
        "    def forward(self, inputs): # Define the forward pass of the network\n",
        "        embeds = self.embeddings(inputs) # Get the embeddings for the input words\n",
        "\n",
        "        # Flatten the embeddings (from context_size x embedding_dim to a single vector)\n",
        "        out = embeds.view((1, -1))\n",
        "\n",
        "        # Pass the flattened embeddings through the first linear layer\n",
        "        out = self.linear1(out)\n",
        "\n",
        "        # Pass the output of the first linear layer through the second linear layer\n",
        "        out = self.linear2(out)\n",
        "\n",
        "        # Apply log softmax to get log probabilities for each word in the vocabulary\n",
        "        log_probs = F.log_softmax(out, dim=1)\n",
        "\n",
        "        return(log_probs) # Return the log probabilities\n",
        "\n",
        "\n",
        "def make_context_vector(context, word_to_ix):\n",
        "    idxs = [word_to_ix[w] for w in context]\n",
        "    return torch.tensor(idxs, dtype=torch.long)\n",
        "\n",
        "# Create a dictionary mapping each word to its index in the vocabulary, as nn.Embedding layer only takes indices.\n",
        "word_to_ix = {word: i for i, word in enumerate(vocab_lst)}\n",
        "\n",
        "losses = []\n",
        "loss_function = nn.NLLLoss() # Define the loss function to be used (Negative Log Likelihood Loss)\n",
        "\n",
        "model = CBOW(len(vocab_lst), embedding_dim=5, context_size=4) # Initialize the CBOW model with necessary inputs.\n",
        "\n",
        "optimizer = optim.SGD(model.parameters(), lr=0.05)  # Define the optimizer and learning rate to update the model's parameters.\n",
        "\n",
        "\n",
        "for epoch in range(20):\n",
        "    total_loss = 0 # Initialize the total loss for the current epoch\n",
        "    for context, target in data: # Iterate over each context-target pair in the dataset\n",
        "        context_ids = make_context_vector(context, word_to_ix) # Convert the context words to their corresponding indices and create a tensor\n",
        "        model.zero_grad() # Zero out the gradients from previous steps\n",
        "\n",
        "        log_probs = model(context_ids) # Forward pass: get the log probabilities for the target word given the context\n",
        "\n",
        "        label = torch.tensor([word_to_ix[target]], dtype=torch.long) # Create a tensor for the target word's index\n",
        "\n",
        "        loss = loss_function(log_probs, label) # Calculate the loss between the predicted log probabilities and the actual target\n",
        "        loss.backward() # Backward pass: compute gradients of the loss with respect to the model's parameters\n",
        "\n",
        "        optimizer.step() # Update the model's parameters using the optimizer\n",
        "        total_loss += loss.item() # Accumulate the loss for the current epoch\n",
        "    losses.append(total_loss) # Append the total loss for the current epoch to the losses list\n",
        "\n",
        "\n",
        "# Plot the loss values over the epochs using matplotlib\n",
        "\n",
        "plt.plot(range(20), losses)"
      ]
    },
    {
      "cell_type": "code",
      "execution_count": 17,
      "id": "7f26f7ec-e3f1-416f-9f8c-c65aba255aa1",
      "metadata": {
        "colab": {
          "base_uri": "https://localhost:8080/",
          "height": 0
        },
        "id": "7f26f7ec-e3f1-416f-9f8c-c65aba255aa1",
        "outputId": "59cc06fd-739f-4941-a7a9-d4b814e2b68d"
      },
      "outputs": [
        {
          "output_type": "execute_result",
          "data": {
            "text/plain": [
              "tensor([-1.1191,  0.1065,  1.3731, -1.7975, -0.4363],\n",
              "       grad_fn=<EmbeddingBackward0>)"
            ]
          },
          "metadata": {},
          "execution_count": 17
        }
      ],
      "source": [
        "# check the dense embedding for the first word aim\"\"\n",
        "\n",
        "model.embeddings(torch.tensor(0))"
      ]
    },
    {
      "cell_type": "code",
      "execution_count": 18,
      "id": "2b58998d-ec77-4fa7-bf68-defc4b9f8b02",
      "metadata": {
        "colab": {
          "base_uri": "https://localhost:8080/",
          "height": 593
        },
        "id": "2b58998d-ec77-4fa7-bf68-defc4b9f8b02",
        "outputId": "ad297e9b-059e-43f8-f01a-ead4f88358e9"
      },
      "outputs": [
        {
          "output_type": "stream",
          "name": "stderr",
          "text": [
            "/tmp/ipython-input-2299828921.py:8: UserWarning: Implicit dimension choice for softmax has been deprecated. Change the call to include dim=X as an argument.\n",
            "  prob = F.softmax(out).detach().numpy()[0]\n"
          ]
        },
        {
          "output_type": "display_data",
          "data": {
            "text/plain": [
              "<Figure size 1000x500 with 1 Axes>"
            ],
            "image/png": "[encoded data removed]"
          },
          "metadata": {}
        }
      ],
      "source": [
        "context, targrt = data[1]\n",
        "context_ids = make_context_vector(context, word_to_ix)\n",
        "\n",
        "out = model.embeddings(context_ids)\n",
        "out = out.view((1, -1))\n",
        "out = model.linear1(out)\n",
        "out = model.linear2(out)\n",
        "prob = F.softmax(out).detach().numpy()[0]\n",
        "\n",
        "plt.figure(figsize = (10, 5))\n",
        "plt.bar(vocab_lst, prob)\n",
        "plt.xticks(rotation = 90)\n",
        "plt.show()"
      ]
    },
    {
      "cell_type": "code",
      "execution_count": 22,
      "id": "c368136e",
      "metadata": {
        "colab": {
          "base_uri": "https://localhost:8080/",
          "height": 538
        },
        "id": "c368136e",
        "outputId": "acc61b2a-9130-41c3-8cc8-569dc9acbd56"
      },
      "outputs": [
        {
          "output_type": "display_data",
          "data": {
            "text/plain": [
              "<Figure size 1000x500 with 1 Axes>"
            ],
            "image/png": "[encoded data removed]"
          },
          "metadata": {}
        }
      ],
      "source": [
        "# step 1: embedding\n",
        "out = model.embeddings(context_ids)\n",
        "\n",
        "# 2. faltten\n",
        "out = out.view((1, -1))\n",
        "\n",
        "# 3. first linear layer:\n",
        "\n",
        "out = model.linear1(out)\n",
        "\n",
        "# 4. second linear layer:\n",
        "out = model.linear2(out)\n",
        "\n",
        "# 5. softmax\n",
        "\n",
        "prob = F.softmax(out, dim=1).detach().numpy()[0] # output the probability of the target word.\n",
        "\n",
        "plt.figure(figsize = (10, 5))\n",
        "plt.bar(vocab_lst, prob)\n",
        "plt.xticks(rotation = 90)\n",
        "plt.show()"
      ]
    },
    {
      "cell_type": "code",
      "execution_count": null,
      "id": "7277d3b7-c2f6-494d-ab85-f2705a76d86a",
      "metadata": {
        "id": "7277d3b7-c2f6-494d-ab85-f2705a76d86a",
        "outputId": "617c6ef9-f5d0-4a3b-b845-521d08b28f94"
      },
      "outputs": [
        {
          "data": {
            "text/plain": [
              "{'aim': 0,\n",
              " 'amount': 1,\n",
              " 'avail': 2,\n",
              " 'behavior': 3,\n",
              " 'build': 4,\n",
              " 'collabor': 5,\n",
              " 'comput': 6,\n",
              " 'creat': 7,\n",
              " 'data': 8,\n",
              " 'decad': 9,\n",
              " 'detail': 10,\n",
              " 'disciplin': 11,\n",
              " 'economist': 12,\n",
              " 'effort': 13,\n",
              " 'exist': 14,\n",
              " 'explos': 15,\n",
              " 'grow': 16,\n",
              " 'huge': 17,\n",
              " 'human': 18,\n",
              " 'inform': 19,\n",
              " 'interact': 20,\n",
              " 'interdisciplinari': 21,\n",
              " 'internet': 22,\n",
              " 'intersect': 23,\n",
              " 'involv': 24,\n",
              " 'know': 25,\n",
              " 'led': 26,\n",
              " 'leverag': 27,\n",
              " 'mathematician': 28,\n",
              " 'media': 29,\n",
              " 'opportun': 30,\n",
              " 'past': 31,\n",
              " 'physicist': 32,\n",
              " 'polit': 33,\n",
              " 'requir': 34,\n",
              " 'research': 35,\n",
              " 'scienc': 36,\n",
              " 'scientist': 37,\n",
              " 'social': 38,\n",
              " 'sociologist': 39,\n",
              " 'studi': 40,\n",
              " 'telescop': 41,\n",
              " 'turn': 42,\n",
              " 'unpreced': 43,\n",
              " 'use': 44,\n",
              " 'vari': 45}"
            ]
          },
          "execution_count": 23,
          "metadata": {},
          "output_type": "execute_result"
        }
      ],
      "source": []
    },
    {
      "cell_type": "code",
      "execution_count": 23,
      "id": "8592143b",
      "metadata": {
        "colab": {
          "base_uri": "https://localhost:8080/",
          "height": 447
        },
        "id": "8592143b",
        "outputId": "3228739d-5ddc-4c6d-92c5-778c228ac69c"
      },
      "outputs": [
        {
          "output_type": "execute_result",
          "data": {
            "text/plain": [
              "[<matplotlib.lines.Line2D at 0x7aab96c44950>]"
            ]
          },
          "metadata": {},
          "execution_count": 23
        },
        {
          "output_type": "display_data",
          "data": {
            "text/plain": [
              "<Figure size 640x480 with 1 Axes>"
            ],
            "image/png": "[encoded data removed]"
          },
          "metadata": {}
        }
      ],
      "source": [
        "import matplotlib.pyplot as plt\n",
        "\n",
        "def make_context_vector(context, word_to_ix):\n",
        "    idxs = [word_to_ix[w] for w in context]\n",
        "    return torch.tensor(idxs, dtype=torch.long)\n",
        "\n",
        "# Create a dictionary mapping each word to its index in the vocabulary, as nn.Embedding layer only takes indices.\n",
        "word_to_ix = {word: i for i, word in enumerate(vocab_lst)}\n",
        "\n",
        "losses = []\n",
        "loss_function = nn.NLLLoss() # Define the loss function to be used (Negative Log Likelihood Loss)\n",
        "\n",
        "model = CBOW(len(vocab_lst), embedding_dim=5, context_size=4) # Initialize the CBOW model with necessary inputs.\n",
        "\n",
        "optimizer = optim.SGD(model.parameters(), lr=0.05)  # Define the optimizer and learning rate to update the model's parameters.\n",
        "\n",
        "\n",
        "for epoch in range(20):\n",
        "    total_loss = 0 # Initialize the total loss for the current epoch\n",
        "    for context, target in data: # Iterate over each context-target pair in the dataset\n",
        "        context_ids = make_context_vector(context, word_to_ix) # Convert the context words to their corresponding indices and create a tensor\n",
        "        model.zero_grad() # Zero out the gradients from previous steps\n",
        "\n",
        "        log_probs = model(context_ids) # Forward pass: get the log probabilities for the target word given the context\n",
        "\n",
        "        label = torch.tensor([word_to_ix[target]], dtype=torch.long) # Create a tensor for the target word's index\n",
        "\n",
        "        loss = loss_function(log_probs, label) # Calculate the loss between the predicted log probabilities and the actual target\n",
        "        loss.backward() # Backward pass: compute gradients of the loss with respect to the model's parameters\n",
        "\n",
        "        optimizer.step() # Update the model's parameters using the optimizer\n",
        "        total_loss += loss.item() # Accumulate the loss for the current epoch\n",
        "    losses.append(total_loss) # Append the total loss for the current epoch to the losses list\n",
        "\n",
        "\n",
        "# Plot the loss values over the epochs using matplotlib\n",
        "\n",
        "plt.plot(range(20), losses)"
      ]
    },
    {
      "cell_type": "markdown",
      "id": "b80ef96b",
      "metadata": {
        "id": "b80ef96b"
      },
      "source": [
        "### 3. Sentence Embedding with SentenceBERT"
      ]
    },
    {
      "cell_type": "code",
      "execution_count": 31,
      "id": "bf22b614",
      "metadata": {
        "id": "bf22b614"
      },
      "outputs": [],
      "source": [
        "from sentence_transformers import SentenceTransformer\n",
        "from numpy.linalg import norm\n",
        "\n",
        "cos_sim = lambda a,b: (a @ b.T) / (norm(a)*norm(b))\n",
        "model = SentenceTransformer('sentence-transformers/all-MiniLM-L6-v2')\n",
        "\n",
        "embeddings = model.encode(['今天天气怎么样呀', '今天心情好极了', '计算社会科学太容易了'] )"
      ]
    },
    {
      "cell_type": "code",
      "execution_count": 32,
      "id": "5ee21465",
      "metadata": {
        "colab": {
          "base_uri": "https://localhost:8080/",
          "height": 0
        },
        "id": "5ee21465",
        "outputId": "d8347834-3921-4295-f3f7-76614fefd8f1"
      },
      "outputs": [
        {
          "output_type": "execute_result",
          "data": {
            "text/plain": [
              "array([[1.        , 0.85986626, 0.42122194],\n",
              "       [0.85986626, 1.0000001 , 0.39542288],\n",
              "       [0.42122194, 0.39542288, 1.0000002 ]], dtype=float32)"
            ]
          },
          "metadata": {},
          "execution_count": 32
        }
      ],
      "source": [
        "cosine_similarity(embeddings)"
      ]
    },
    {
      "cell_type": "markdown",
      "id": "b817305a",
      "metadata": {
        "id": "b817305a"
      },
      "source": [
        "#### Want to Know More about word embedding?\n",
        "\n",
        "In this simple exercise, we used a very simple corpus. It only includes one paragraph. Also, we set the embedding dimension to be 3 for easy visualization. The result is not very accurate.\n",
        "\n",
        "Some institutions or scholars have trained word embeddings from billions of documents. Those pre-trained word embeddings can be downloaded online. They also provide different options for the embedding dimension, e.g., 100 or 200. You can check the following link for more information:\n",
        "\n",
        "- [Google Word2Vec](https://code.google.com/archive/p/word2vec/)\n",
        "- [Standford GloVe](https://nlp.stanford.edu/projects/glove/)"
      ]
    },
    {
      "cell_type": "markdown",
      "id": "85b66b9b",
      "metadata": {
        "id": "85b66b9b"
      },
      "source": [
        "### 4. Other application of NLP approaches.\n",
        "\n",
        "We have introduced different NLP methods in this session, some of which can be applied to tasks beyound text processing. Below shows you a pesudo scenario.\n",
        "\n",
        "The classification of occupations (职业) normally follows a top-down manner. For instance, China has defined 8 general occupation types, each further subdivided into more specific categories [[ref]](https://oss.baigongbao.com/2021/07/18/BkANmPhfNr.pdf). However, due to the rapid evolution of society, new occupation types often emerge that do not fit into existing categories. As a research assistant, you have been tasked with classifying these new occupations into the existing categories. To accomplish this, you recall the concept of \"embedding\" from your CSS 5220 class. You decide to create embeddings for each occupation type and use similarity measures to match new occupations to existing categories.\n",
        "\n",
        "There are various methods to achieve this, an intuitive one is to create embeddings based on job advertisement texts. Unfortunately, your advisor does not have access to this type of data. Instead, he provides you with user-based data, consisting of 1,000 job applicants and the jobs each applicant has applied for. Below shows two exemplary records of the data:\n",
        "\n",
        "    1. {'name': '张三', 'jobs_applied': ['数据分析师'，'机器学习工程师'，'产品经理'，'数据运营']}\n",
        "    2. {'name': '李四', 'jobs_applied': ['服务员'，'前台'，'销售助理'，'办公室文员'，'零售店员']}\n",
        "\n",
        "Therefore, the question becomes: how can you create embeddings for occupations based on this available data?\n",
        "\n",
        "<span style='background-color: #FFFF00;'> Please read the above question and document the steps that you will take to solve the question (**2 Points**).</span>\n",
        "\n",
        "(**Hint**: I expect you use Word2Vec embedding)"
      ]
    },
    {
      "cell_type": "markdown",
      "id": "7edcac86",
      "metadata": {
        "id": "7edcac86"
      },
      "source": [
        "---\n",
        "\n",
        "\n",
        "\n",
        "**Answer:**\n",
        "The core idea is to treat each applicant's list of applied-for jobs as a \"sentence\" and each unique occupation title as a \"word\".\n",
        "\n",
        "**Step 1: Data Preparation**\n",
        "First, we must transform the applicant data into a format that a Word2Vec model can understand (a list of lists, or a \"corpus\").\n",
        "\n",
        "Initialize an empty list, let's call it corpus.\n",
        "\n",
        "Iterate through the 1,000 applicant records provided.\n",
        "\n",
        "For each applicant, extract their jobs_applied list.\n",
        "\n",
        "Append this list of jobs directly to our corpus.\n",
        "\n",
        "After this step, corpus will be a list of 1,000 \"sentences\". For example, based on the two samples provided, our corpus would look like this:\n",
        "\n",
        "[\n",
        "  ['数据分析师', '机器学习工程师', '产品经理', '数据运营'],\n",
        "  ['服务员', '前台', '销售助理', '办公室文员', '零售店员'],\n",
        "  ... (998 more lists) ...\n",
        "]\n",
        "\n",
        "\n",
        "**Step 2: Train the Word2Vec Model**\n",
        "\n",
        "Now that we have our data in the correct format, we can train the Word2Vec model (e.g., using the gensim library).\n",
        "\n",
        "Import the Word2Vec model: from gensim.models import Word2Vec.\n",
        "\n",
        "Instantiate and train the model on our corpus:\n",
        "model = Word2Vec(corpus, vector_size=100, window=5, min_count=1, workers=4)\n",
        "\n",
        "corpus: The list of lists we prepared in Step 1.\n",
        "\n",
        "vector_size: The dimension of the embedding we want to create for each occupation (e.g., 100).\n",
        "\n",
        "window: This defines the \"context\". A window of 5 means that for a given job, the model will look at other jobs within the same list (up to 5 \"words\" away, though in this case, the order doesn't matter as much as co-occurrence). This co-application behavior is what creates the \"context\".\n",
        "\n",
        "min_count=1: Ensures that every occupation (even rare ones) gets an embedding.\n",
        "\n",
        "**Step 3: Extract and Use Occupation Embeddings**\n",
        "\n",
        "Once the model is trained, it contains a vector (embedding) for every unique occupation title found in the data.\n",
        "\n",
        "Get an Embedding: We can access the embedding for any specific occupation using the model's vocabulary:\n",
        "embedding_for_data_analyst = model.wv['数据分析师']\n",
        "\n",
        "Solve the Problem (Classification): To classify a \"new occupation\" (e.g., '机器学习工程师') into an \"existing category\" (e.g., represented by '数据分析师'), we can now use similarity measures.\n",
        "\n",
        "Calculate the cosine similarity between the embeddings of the two occupations:\n",
        "similarity = model.wv.similarity('机器学习工程师', '数据分析师')\n",
        "\n",
        "By comparing the \"new occupation's\" embedding to the embeddings of all existing categories, we can classify it into the category with the highest similarity score.\n",
        "\n",
        "This method successfully creates meaningful embeddings for occupations based on user behavior (which jobs are applied for together) rather than job descriptions.\n",
        "\n",
        "\n",
        "----"
      ]
    },
    {
      "cell_type": "code",
      "source": [
        "# Import Word2Vec module\n",
        "from gensim.models import Word2Vec\n",
        "import warnings\n",
        "\n",
        "# Ignore warnings that may appear during gensim training\n",
        "warnings.filterwarnings(\"ignore\", category=FutureWarning)\n",
        "\n",
        "# Step 1: Prepare the Corpus\n",
        "# Assume this is our applicant data, we just use a few examples for demonstration\n",
        "# Each list represents an applicant's \"application history\", just like a \"sentence\"\n",
        "corpus = [\n",
        "    # Applicant A (Technical roles)\n",
        "    ['数据分析师', '机器学习工程师', '产品经理', '数据运营'],\n",
        "    # Applicant B (Service/Admin roles)\n",
        "    ['服务员', '前台', '销售助理', '办公室文员', '零售店员'],\n",
        "    # Applicant C (Technical roles)\n",
        "    ['数据分析师', 'Python工程师', '数据运营', '数据科学家'],\n",
        "    # Applicant D (Service/Admin roles)\n",
        "    ['前台', '行政助理', '办公室文员', '人事助理'],\n",
        "    # Applicant E (Mixed roles, tech-leaning)\n",
        "    ['产品经理', '数据分析师', '项目经理'],\n",
        "    # Applicant F (Mixed roles, sales-leaning)\n",
        "    ['销售助理', '产品经理', '市场专员'],\n",
        "    # Applicant G (Technical roles)\n",
        "    ['机器学习工程师', '数据科学家', '算法工程师'],\n",
        "    # Applicant H (Service roles)\n",
        "    ['零售店员', '收银员', '服务员']\n",
        "]\n",
        "\n",
        "print(\"Prepared Corpus (First 5 entries)\")\n",
        "for i, sentence in enumerate(corpus[:5]):\n",
        "    print(f\"Applicant {i+1}: {sentence}\")\n",
        "print(\"...\\n\")\n",
        "\n",
        "# Step 2: Train the Word2Vec Model\n",
        "# We use a very small vector dimension (vector_size=10) just for this demo\n",
        "# window=2: In the same list, one \"job\" will consider the 2 jobs before and after it as context\n",
        "# min_count=1: Ensures that every job that appears will have a vector calculated\n",
        "# sg=1: Use the Skip-Gram algorithm (this fits the \"context\" concept better)\n",
        "print(\"Starting Word2Vec Model Training\")\n",
        "model = Word2Vec(corpus, vector_size=10, window=2, min_count=1, workers=1, sg=1)\n",
        "print(\"Model training complete!\\n\")\n",
        "\n",
        "# Step 3: Extract and Use Occupation Embeddings\n",
        "\n",
        "print(\"1. View the vector for a specific job\")\n",
        "job_title = '数据分析师'\n",
        "# model.wv contains all the word vectors\n",
        "job_vector = model.wv[job_title]\n",
        "print(f\"Vector for '{job_title}' (dimension={len(job_vector)}):\")\n",
        "# Print the first 5 numbers of the vector\n",
        "print(f\"{job_vector[:5]} ...\\n\")\n",
        "\n",
        "print(\"2. Compare the similarity between two jobs\")\n",
        "job_1 = '数据分析师'\n",
        "job_2 = '机器学习工程师'\n",
        "# Calculate the cosine similarity between the two vectors\n",
        "similarity_tech = model.wv.similarity(job_1, job_2)\n",
        "print(f\"Similarity between '{job_1}' and '{job_2}':\")\n",
        "print(f\"-> {similarity_tech:.4f} (We expect this value to be high, as they are related technical roles)\\n\")\n",
        "\n",
        "job_3 = '服务员'\n",
        "similarity_mixed = model.wv.similarity(job_1, job_3)\n",
        "print(f\"Similarity between '{job_1}' and '{job_3}':\")\n",
        "print(f\"-> {similarity_mixed:.4f} (We expect this value to be low, as they are unrelated)\\n\")\n",
        "\n",
        "# 3. Find the most related jobs (The key to solving the problem)\n",
        "target_job = '产品经理'\n",
        "print(f\"4. Find jobs most similar to '{target_job}' \")\n",
        "# topn=3 means find the top 3 most similar\n",
        "similar_jobs = model.wv.most_similar(target_job, topn=3)\n",
        "for job, score in similar_jobs:\n",
        "    print(f\"Job: {job}, Similarity: {score:.4f}\")\n",
        "print(\"\\n\")\n",
        "\n",
        "target_job_2 = '前台'\n",
        "print(f\"5. Find jobs most similar to '{target_job_2}'\")\n",
        "similar_jobs_2 = model.wv.most_similar(target_job_2, topn=3)\n",
        "for job, score in similar_jobs_2:\n",
        "    print(f\"Job: {job}, Similarity: {score:.4f}\")"
      ],
      "metadata": {
        "colab": {
          "base_uri": "https://localhost:8080/",
          "height": 0
        },
        "id": "MmW8DppTEx5H",
        "outputId": "79862590-134f-4970-fa9b-0e8f0119f07c"
      },
      "id": "MmW8DppTEx5H",
      "execution_count": 34,
      "outputs": [
        {
          "output_type": "stream",
          "name": "stdout",
          "text": [
            "Prepared Corpus (First 5 entries)\n",
            "Applicant 1: ['数据分析师', '机器学习工程师', '产品经理', '数据运营']\n",
            "Applicant 2: ['服务员', '前台', '销售助理', '办公室文员', '零售店员']\n",
            "Applicant 3: ['数据分析师', 'Python工程师', '数据运营', '数据科学家']\n",
            "Applicant 4: ['前台', '行政助理', '办公室文员', '人事助理']\n",
            "Applicant 5: ['产品经理', '数据分析师', '项目经理']\n",
            "...\n",
            "\n",
            "Starting Word2Vec Model Training\n",
            "Model training complete!\n",
            "\n",
            "1. View the vector for a specific job\n",
            "Vector for '数据分析师' (dimension=10):\n",
            "[ 0.07383122 -0.01533382 -0.04534274  0.06556205 -0.04861623] ...\n",
            "\n",
            "2. Compare the similarity between two jobs\n",
            "Similarity between '数据分析师' and '机器学习工程师':\n",
            "-> -0.5147 (We expect this value to be high, as they are related technical roles)\n",
            "\n",
            "Similarity between '数据分析师' and '服务员':\n",
            "-> 0.2324 (We expect this value to be low, as they are unrelated)\n",
            "\n",
            "4. Find jobs most similar to '产品经理' \n",
            "Job: 数据分析师, Similarity: 0.5438\n",
            "Job: 收银员, Similarity: 0.4318\n",
            "Job: 数据运营, Similarity: 0.3793\n",
            "\n",
            "\n",
            "5. Find jobs most similar to '前台'\n",
            "Job: 办公室文员, Similarity: 0.6144\n",
            "Job: 市场专员, Similarity: 0.3862\n",
            "Job: 项目经理, Similarity: 0.2202\n"
          ]
        }
      ]
    }
  ],
  "metadata": {
    "kernelspec": {
      "display_name": "Python 3 (ipykernel)",
      "language": "python",
      "name": "python3"
    },
    "language_info": {
      "codemirror_mode": {
        "name": "ipython",
        "version": 3
      },
      "file_extension": ".py",
      "mimetype": "text/x-python",
      "name": "python",
      "nbconvert_exporter": "python",
      "pygments_lexer": "ipython3",
      "version": "3.12.7"
    },
    "colab": {
      "provenance": [],
      "include_colab_link": true
    }
  },
  "nbformat": 4,
  "nbformat_minor": 5
}